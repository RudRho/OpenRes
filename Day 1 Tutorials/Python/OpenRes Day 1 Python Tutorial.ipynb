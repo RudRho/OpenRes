{
 "cells": [
  {
   "cell_type": "markdown",
   "metadata": {},
   "source": [
    "# Using Python for Data Analysis\n",
    "\n",
    "This first session of OpenRes will be focused on the exploration, cleaning and basic visualisation of a prepared set of sample data - the [pedestrian counts](https://github.com/resbaz/OpenRes/tree/master/Day%201%20Tutorials/Python) at various locations around Melbourne. If you have not already downloaded this data, please do so now, and place this data file in the same folder as this jupyter notebook. \n",
    "\n",
    "## Learning objectives\n",
    "\n",
    "Thorughout this session we're going to be teaching you a range of tools and skills related to cleaning, manipulation and visualising large datasets. Using the pandas package, we can read in and manipulate large spreadsheets of data, and matplotlib lets you visualise these datasets in a useable, customisable format.\n",
    "\n",
    "The sections I'll be taking you through today are:\n",
    "\n",
    "- Data examination\n",
    "- Dataframe manipulation\n",
    "- Asking a research question\n",
    "- Plotting your data\n",
    "    - Seaborn (static images)\n",
    "    - Bokeh (interactive images)"
   ]
  },
  {
   "cell_type": "markdown",
   "metadata": {},
   "source": [
    "## Setting Up\n",
    "\n",
    "First, we need to import packages we need to perform our data analysis."
   ]
  },
  {
   "cell_type": "code",
   "execution_count": null,
   "metadata": {
    "collapsed": true
   },
   "outputs": [],
   "source": [
    "# loading the pandas and numpy libraries\n",
    "import pandas as pd\n",
    "import numpy as np"
   ]
  },
  {
   "cell_type": "code",
   "execution_count": null,
   "metadata": {
    "collapsed": true
   },
   "outputs": [],
   "source": [
    "#Try to run these - if unsuccessful, sit next to someone that it does work for\n",
    "import matplotlib.pyplot as plt\n",
    "\n",
    "# If this fails comment it out\n",
    "import seaborn as sns\n",
    "\n",
    "# If this fails comment it out\n",
    "from palettable import colorbrewer as cb\n"
   ]
  },
  {
   "cell_type": "markdown",
   "metadata": {},
   "source": [
    "We can also use a command called a *magic* with \"%\". These allow us to implement a variety of different commands both on the Jupyter notebook itself, and even on the system (your computer) itself.\n",
    "\n",
    "This particualr \"magic\" command will allow inline plotting - i.e. all plots generated will appear within this notebook instead of in a new browser tab."
   ]
  },
  {
   "cell_type": "code",
   "execution_count": null,
   "metadata": {
    "collapsed": true
   },
   "outputs": [],
   "source": [
    "# inline plotting magic command\n",
    "# allows figures to be generated inside the notebook, instead of in a separate window\n",
    "%matplotlib inline\n",
    "\n",
    "#You can also choose to save these images to a local folder, which we will go through later"
   ]
  },
  {
   "cell_type": "markdown",
   "metadata": {},
   "source": [
    "## A Basic Pandas Introduction\n",
    "\n",
    "- creating your own dataframe\n",
    "    - the \"series\" object\n",
    "- subsetting columns\n",
    "- subsetting rows\n",
    "    - `head()` and `tail()`\n",
    "    - slicing\n",
    "    - `loc` vs `iloc`\n"
   ]
  },
  {
   "cell_type": "markdown",
   "metadata": {},
   "source": [
    "### Understanding the Dataframe data-type\n",
    "\n",
    "A Pandas dataframe can be thought of as a collection of lists (of equal length), where each list makes up a column inside your dateframe. \n",
    "\n",
    "The key difference between a list and a Pandas column though, is that every single item inside your column _must be of the same data type_. If you have a column of integers, and a single string value, like this, `[1,2,3,4,'seven']`, then every single value inside your column is going to be a string-type.\n",
    "\n",
    "Instead of using a list - which can take any type of values -, Pandas performs this type-coercion by using a data type called a Series."
   ]
  },
  {
   "cell_type": "code",
   "execution_count": null,
   "metadata": {},
   "outputs": [],
   "source": [
    "df1 = pd.Series([1,2,3,4,5,6])\n",
    "\n",
    "print(df1)"
   ]
  },
  {
   "cell_type": "markdown",
   "metadata": {},
   "source": [
    "Each \"Series\" object can be thought of as it's own miniature dataframe. So our previous example would be a dataframe with one column, and 5 rows.\n",
    "\n",
    "Therefore, when creating a dataframe, you actually have to create it as a collection of these \"Series\" objects"
   ]
  },
  {
   "cell_type": "code",
   "execution_count": null,
   "metadata": {
    "collapsed": true
   },
   "outputs": [],
   "source": [
    "df = pd.DataFrame(\n",
    "        # Here we define the data that goes into the dataframe\n",
    "            {'A':['a', 'b', 'c','d','e','f'], # Column \"A\"\n",
    "             'B':[54, 67, 89, 100, None, 64], #Column \"B\"\n",
    "             'C': np.random.randn(6), #Column \"C\"\n",
    "             'D': [2.6,None, 8.0, 9.4, 3.3, None] #Column \"D\"\n",
    "                },\n",
    "        # And then we can specify other dataframe options\n",
    "          index=[49, 48, 47, 1, 2, 3] # Lets you set your row names\n",
    "            )"
   ]
  },
  {
   "cell_type": "code",
   "execution_count": null,
   "metadata": {},
   "outputs": [],
   "source": [
    "df"
   ]
  },
  {
   "cell_type": "code",
   "execution_count": null,
   "metadata": {},
   "outputs": [],
   "source": [
    "print(\"df1:\")\n",
    "print(df1)\n",
    "\n",
    "df[\"E\"] = df1\n",
    "\n",
    "print(\"\\n\"+\n",
    "        \"new dataframe:\")\n",
    "print(df)\n",
    "\n",
    "#What's wrong with this picture?"
   ]
  },
  {
   "cell_type": "code",
   "execution_count": null,
   "metadata": {
    "collapsed": true
   },
   "outputs": [],
   "source": []
  },
  {
   "cell_type": "markdown",
   "metadata": {},
   "source": [
    "As we can see, the two dataframes did not properly combine. \n",
    "\n",
    "If you take a clsoer look at the indexes though, you can see that indexes 1, 2 and 3 from *df1* combined with indexes 1, 2, and 3 from *df*.\n",
    "\n",
    "When pandas/python tries to combine the two dataframes, it tries to do so by combining them at their indexes, instead of as a straight addition. \n",
    "\n",
    "This is why, when combining dataframes, we need to be *very careful* of what indexing/rownames we are using."
   ]
  },
  {
   "cell_type": "code",
   "execution_count": null,
   "metadata": {},
   "outputs": [],
   "source": [
    "pd.Series()"
   ]
  },
  {
   "cell_type": "code",
   "execution_count": null,
   "metadata": {},
   "outputs": [],
   "source": [
    "df['E'] = pd.Series([1,2,3,4,5,6], index = df.index)\n",
    "\n",
    "print(df)"
   ]
  },
  {
   "cell_type": "markdown",
   "metadata": {},
   "source": [
    "## Reading in Data\n",
    "\n",
    "The first step to any data exploration and manipulation is to open your data within your program. We are going to do this using the **pandas** package, which reads in spread-sheet style data and converts them into *dataframes*. \n",
    "\n",
    "These dataframes work with rows and columns, like a spreadsheet, except that all data within a single column has to be the same data type. \n",
    "\n",
    "For example, imagine you had a spreadsheet containing two columns - \"labels\" and \"numbers\", and that the rows in the \"labels\" column contains either a text or number sequence. Because you cannot turn text into a number, every single row in that \"labels\" column would need to be a string (text) type. Similarly, if some (but not all) of the rows in the \"numbers\" column contained decimals, **all** of the rows within this column would need to be of a decimal (float) data type.\n",
    "\n",
    "To read in a comma-separated file, or \\*.csv, you can use the pandas function read_csv()"
   ]
  },
  {
   "cell_type": "code",
   "execution_count": null,
   "metadata": {
    "collapsed": true
   },
   "outputs": [],
   "source": [
    "# Reading in a *.csv file\n",
    "pdsn = pd.read_csv(\"pedestriancounts_melbourne.csv\")"
   ]
  },
  {
   "cell_type": "markdown",
   "metadata": {},
   "source": [
    "You can also open a variety of other file types using the \"reader\" functions found in this [IO tools documentation](http://pandas.pydata.org/pandas-docs/version/0.20/io.html \"Pandas IO tools\"). \n",
    "\n",
    "This includes file types such as excel (\\*.xlsx) files, and text (\\*.txt) files. You can use the parameters within these functions to specify file or data attributes such as column separators, whether there's column/row names, specifying your own column names. Importantly, for those working with data across different computers, or with alrge datasets, you can also specify the type of file encoding, or whether we want to save memory and open the data in \"chunks\". \n",
    "\n",
    "As a quick guide, here are some of the arguments you can use with pd.read_csv():\n",
    "\n",
    "- `sep`: the type of separator between our columns\n",
    "-  `header`: the row number to take as the start of the data. Useful if you have metadata attached at the beginning of your file\n",
    "- `names`: You can also specify your column names. Takes a list of values. If your file contains no header, also use `header = none`. Otherwise, use `header = 0`.\n",
    "* `parse_dates`: Treat one or more columns like dates.\n",
    "* `dayfirst`: Use DD.MM.YYYY format, not month first.\n",
    "* `infer_datetime_format`: Tell pandas to guess the date format.\n",
    "- `na_values`: Specify values to be treated as empty."
   ]
  },
  {
   "cell_type": "code",
   "execution_count": null,
   "metadata": {
    "scrolled": true
   },
   "outputs": [],
   "source": [
    "pdsn.head()"
   ]
  },
  {
   "cell_type": "code",
   "execution_count": null,
   "metadata": {},
   "outputs": [],
   "source": [
    "pdsn.tail()"
   ]
  },
  {
   "cell_type": "markdown",
   "metadata": {},
   "source": [
    "## Examining your Data\n",
    "\n",
    "- `head()`, `tail()`\n",
    "- `columns`\n",
    "- `df.Column` vs `df['Column']`\n",
    "- `dtypes`\n",
    "- `describe()`\n",
    "- `shape`; `shape[0]` vs. `shape[1]`\n",
    "- `iloc` vs `loc`\n",
    "- finding null data\n",
    "\n",
    "One of the first steps in exploring your data is to see what it looks like, what data types are present, and how many rows/columns there are."
   ]
  },
  {
   "cell_type": "code",
   "execution_count": null,
   "metadata": {},
   "outputs": [],
   "source": [
    "pdsn.tail()"
   ]
  },
  {
   "cell_type": "markdown",
   "metadata": {},
   "source": [
    "You can also specify how many rows you want `head` and `tail` to return"
   ]
  },
  {
   "cell_type": "code",
   "execution_count": null,
   "metadata": {},
   "outputs": [],
   "source": [
    "# return 10 rows\n"
   ]
  },
  {
   "cell_type": "markdown",
   "metadata": {},
   "source": [
    "The `shape` function gives you a tuple containing the dimensions of your data, in the form (rows, columns)."
   ]
  },
  {
   "cell_type": "markdown",
   "metadata": {},
   "source": [
    "For those of you who have done a bit of math, the way we tend to index dataframes is the same as matrices - rows, then columns.\n",
    "\n",
    "A handy pnemonic for remembering which order we need to index our data is **R**oman **C**atholic (rows, columns)\n",
    "\n",
    "As we can see from the `shape` command, our pedestrian dataset has 656,823 rows, and 6 columns."
   ]
  },
  {
   "cell_type": "code",
   "execution_count": null,
   "metadata": {},
   "outputs": [],
   "source": [
    "pdsn.shape"
   ]
  },
  {
   "cell_type": "markdown",
   "metadata": {},
   "source": [
    "As shape returns a tuple, this means we can also access the number of rows and columns just like we would with a list:"
   ]
  },
  {
   "cell_type": "code",
   "execution_count": null,
   "metadata": {},
   "outputs": [],
   "source": [
    "# Calling the first or second element of the tuple can give you either the rows or the columns\n",
    "#Gives you the rows (remember, 0 indexing!)\n",
    "print(\"Rows:\",pdsn.shape[0])\n",
    "\n",
    "#Gives you the columns\n",
    "print(\"Columns:\",pdsn.shape[1])"
   ]
  },
  {
   "cell_type": "markdown",
   "metadata": {},
   "source": [
    "You can also use `df.columns` to examine the column names."
   ]
  },
  {
   "cell_type": "code",
   "execution_count": null,
   "metadata": {},
   "outputs": [],
   "source": [
    "#what are the column names?\n"
   ]
  },
  {
   "cell_type": "markdown",
   "metadata": {},
   "source": [
    "You can also examine the data types inside your columns using `dtypes`"
   ]
  },
  {
   "cell_type": "code",
   "execution_count": null,
   "metadata": {},
   "outputs": [],
   "source": [
    "pdsn.dtypes"
   ]
  },
  {
   "cell_type": "code",
   "execution_count": null,
   "metadata": {},
   "outputs": [],
   "source": [
    "# What's an \"object\" data type??\n"
   ]
  },
  {
   "cell_type": "markdown",
   "metadata": {},
   "source": [
    "To select a particular column in your dataframe, you can use one of two options:\n",
    "\n",
    "1) Calling the column as an \"attribute\"\n",
    "    - `df.columnName`\n",
    "\n",
    "2) Subsetting the dataframe\n",
    "    - `df['columnName']`\n",
    "\n",
    "The first option is useful for some functions, but the second form is essential if you want to call more than column at once. You do this by inserting a list, [], of column names, instead a single column.\n",
    "\n",
    "For example: `df[[\"Column1\", \"Column2\", ... , etc]]`"
   ]
  },
  {
   "cell_type": "code",
   "execution_count": null,
   "metadata": {
    "scrolled": true
   },
   "outputs": [],
   "source": [
    "# As an attribute\n",
    "pdsn.SensorID.head() #you can also \"chain\" commands"
   ]
  },
  {
   "cell_type": "code",
   "execution_count": null,
   "metadata": {},
   "outputs": [],
   "source": [
    "# As a subset\n",
    "pdsn[\"SensorName\"].head()"
   ]
  },
  {
   "cell_type": "code",
   "execution_count": null,
   "metadata": {
    "collapsed": true
   },
   "outputs": [],
   "source": [
    "# How do you think we would subset multiple columns at once?\n",
    "\n"
   ]
  },
  {
   "cell_type": "code",
   "execution_count": null,
   "metadata": {
    "collapsed": true
   },
   "outputs": [],
   "source": [
    "# What if we reversed the order?\n",
    "\n"
   ]
  },
  {
   "cell_type": "code",
   "execution_count": null,
   "metadata": {
    "collapsed": true,
    "scrolled": true
   },
   "outputs": [],
   "source": [
    "# What about a column that doesnt exist?\n",
    "pdsn[1]"
   ]
  },
  {
   "cell_type": "markdown",
   "metadata": {},
   "source": [
    "### Slicing\n",
    "\n",
    "Sometimes you need to examine specific rows and columns in the middle of your data though, which aren't covered by `head()` or `tail()`. Instead, you can use index slicing.\n",
    "\n",
    "Slicing works similarly to how you might slice a string, or a list. You simply call the indexes of the rows you want from the dataframe: `df[rowNumbers]`"
   ]
  },
  {
   "cell_type": "code",
   "execution_count": null,
   "metadata": {
    "scrolled": true
   },
   "outputs": [],
   "source": [
    "#Gives us rows 5 through 9\n"
   ]
  },
  {
   "cell_type": "code",
   "execution_count": null,
   "metadata": {
    "collapsed": true,
    "scrolled": true
   },
   "outputs": [],
   "source": [
    "#What about columns?\n",
    "pdsn[5:10, 1:2]"
   ]
  },
  {
   "cell_type": "code",
   "execution_count": null,
   "metadata": {
    "collapsed": true
   },
   "outputs": [],
   "source": []
  },
  {
   "cell_type": "markdown",
   "metadata": {},
   "source": [
    "#### `loc` vs `iloc`\n",
    "\n",
    "You can also use `loc` and `iloc` to slice rows and columns.\n",
    "\n",
    "`df.iloc[]` is positional based, so takes integer values that correlate with the row and column **numbers** in your dataframe\n",
    "\n",
    "`df.loc[]` is label based, and takes the row and column **names** as inputs\n",
    "\n",
    "For this example we're going to use our toy dataframe, df, as an example"
   ]
  },
  {
   "cell_type": "code",
   "execution_count": null,
   "metadata": {},
   "outputs": [],
   "source": [
    "df"
   ]
  },
  {
   "cell_type": "code",
   "execution_count": null,
   "metadata": {},
   "outputs": [],
   "source": [
    "#Using iloc to get rows 0, 1 and 2\n"
   ]
  },
  {
   "cell_type": "code",
   "execution_count": null,
   "metadata": {},
   "outputs": [],
   "source": [
    "# Using loc to get row labels 1, 2 and 3\n"
   ]
  },
  {
   "cell_type": "markdown",
   "metadata": {},
   "source": [
    "If you only enter one set of values into `loc` and `iloc`, they will return the values for every column in your dataset.\n",
    "\n",
    "By using a second integer though, you can choose which rows and columns you specifically want to subset. The first value corresponds to the row, and the second to the columns, or rows x columns. You can also think of this with the moniker *\"Roman Catholic\"*"
   ]
  },
  {
   "cell_type": "code",
   "execution_count": null,
   "metadata": {},
   "outputs": [],
   "source": [
    "# Using loc to get row labels 1, 2 and 3 for Columns A and B\n"
   ]
  },
  {
   "cell_type": "code",
   "execution_count": null,
   "metadata": {},
   "outputs": [],
   "source": [
    "# Using iloc to get rows 0, 1 and 2 for columns 0 and 1.\n"
   ]
  },
  {
   "cell_type": "markdown",
   "metadata": {},
   "source": [
    "The differences between `loc` and `iloc` can seem minor, but they're very important, and which one you should use depends on what your needs are at the time.\n",
    "\n",
    "`iloc` is based on dataframe position, so calling `iloc[:3]` would give you rows 0 through 3. \n",
    "\n",
    "`loc` however is based on the index label, so if you were to call `df.loc[:3]`, it would give you all rows UP TO the row labelled as index 3.\n",
    "\n",
    "While the indexes are in order and all present, this isn't an issue. Consider what happens when the indexes are out of order though, with our dataframe 'df'"
   ]
  },
  {
   "cell_type": "code",
   "execution_count": null,
   "metadata": {},
   "outputs": [],
   "source": [
    "# Can see that this only takes the first 2 rows\n",
    "df.iloc[:2]"
   ]
  },
  {
   "cell_type": "code",
   "execution_count": null,
   "metadata": {},
   "outputs": [],
   "source": [
    "# Whereas this takes all rows UP TO index label 2\n",
    "df.loc[:2]"
   ]
  },
  {
   "cell_type": "markdown",
   "metadata": {},
   "source": [
    "Since `loc` is based on labels, if you try to subset a row or column label that doesn't exist, even if it corresponds to a row number, python will throw you an error"
   ]
  },
  {
   "cell_type": "code",
   "execution_count": null,
   "metadata": {},
   "outputs": [],
   "source": [
    "df.loc[0]"
   ]
  },
  {
   "cell_type": "markdown",
   "metadata": {},
   "source": [
    "Due to this, it's important that you carefully consider which tool is appropriate for your needs"
   ]
  },
  {
   "cell_type": "markdown",
   "metadata": {},
   "source": [
    "#### Challenge\n",
    "\n",
    "Consider the following Python dictionary data and Python list labels:\n",
    "```python\n",
    "data = {'animal': ['cat', 'cat', 'snake', 'dog', 'dog', 'cat', 'snake', 'cat', 'dog', 'dog'],\n",
    "        'age': [2.5, 3, 0.5, np.nan, 5, 2, 4.5, np.nan, 7, 3],\n",
    "        'visits': [1, 3, 2, 3, 2, 3, 1, 1, 2, 1],\n",
    "        'priority': ['yes', 'yes', 'no', 'yes', 'no', 'no', 'no', 'yes', 'no', 'no']}\n",
    "\n",
    "labels = ['a', 'b', 'c', 'd', 'e', 'f', 'g', 'h', 'i', 'j']\n",
    "```"
   ]
  },
  {
   "cell_type": "markdown",
   "metadata": {},
   "source": [
    "1\\. Create a DataFrame, `df_vet` from this dictionary data which has the index labels."
   ]
  },
  {
   "cell_type": "code",
   "execution_count": null,
   "metadata": {},
   "outputs": [],
   "source": []
  },
  {
   "cell_type": "markdown",
   "metadata": {},
   "source": [
    "2\\. Display a summary of the basic information about this DataFrame and its data. Make sure it includes all of the columns."
   ]
  },
  {
   "cell_type": "code",
   "execution_count": null,
   "metadata": {
    "collapsed": true
   },
   "outputs": [],
   "source": [
    "#Hint - using ?method will display the documentation for that method\n",
    "?df.describe()"
   ]
  },
  {
   "cell_type": "code",
   "execution_count": null,
   "metadata": {},
   "outputs": [],
   "source": []
  },
  {
   "cell_type": "markdown",
   "metadata": {},
   "source": [
    "3\\. Return the first 3 rows of the DataFrame df"
   ]
  },
  {
   "cell_type": "code",
   "execution_count": null,
   "metadata": {},
   "outputs": [],
   "source": []
  },
  {
   "cell_type": "markdown",
   "metadata": {},
   "source": [
    "4\\. Select the data in rows [3, 4, 8] and in columns ['animal', 'age']."
   ]
  },
  {
   "cell_type": "code",
   "execution_count": null,
   "metadata": {},
   "outputs": [],
   "source": []
  },
  {
   "cell_type": "markdown",
   "metadata": {},
   "source": [
    "#### The \"describe\" method\n",
    "\n",
    "As we saw during our challenge, one method which is handy for a quick summary fo your data is `df.describe()`.\n",
    "\n",
    "By default, `describe` will only output the summary statistics for the numeric data in your dataframe, unless only text data is present. To include - or exclude - certain types of data from your summary you need to use the `include = \"all\"` or `exclude = <data type>` arguments. Remember to use the pandas column datatypes (int64, float64 and object) though."
   ]
  },
  {
   "cell_type": "markdown",
   "metadata": {},
   "source": [
    "We can also find the specific statistics seen in this summary table by using `max()`, `min()`, `count()`, `std()` {standard deviation}, `mean()` and `sum()`. \n",
    "\n",
    "Just remember though that many of these functions rely on numeric data types, and will cause errors if used on a str type. Calling `sum()` on a string however will concatentate those strings."
   ]
  },
  {
   "cell_type": "code",
   "execution_count": null,
   "metadata": {},
   "outputs": [],
   "source": [
    "# See the difference between the different data types?\n",
    "df_vet.sum()"
   ]
  },
  {
   "cell_type": "code",
   "execution_count": null,
   "metadata": {},
   "outputs": [],
   "source": [
    "#numeric\n",
    "df_vet.age.max()"
   ]
  },
  {
   "cell_type": "code",
   "execution_count": null,
   "metadata": {
    "scrolled": true
   },
   "outputs": [],
   "source": [
    "#String\n",
    "df_vet.animal.max() #this gives the 'highest' lexicographical string inside text columns"
   ]
  },
  {
   "cell_type": "code",
   "execution_count": null,
   "metadata": {},
   "outputs": [],
   "source": [
    "print(\"Number of values in this column:\",df_vet.visits.count())\n",
    "print(\"Mean number of visits:\",df_vet.visits.mean())"
   ]
  },
  {
   "cell_type": "code",
   "execution_count": null,
   "metadata": {},
   "outputs": [],
   "source": [
    "# Unique will tell you how many unique values exist in your column\n",
    "df_vet[\"animal\"].unique()"
   ]
  },
  {
   "cell_type": "markdown",
   "metadata": {},
   "source": [
    "### Subsetting with Conditionals\n",
    "\n",
    "You can also subset using conditional statements, such as ==, !=, >, <, etc.\n",
    "\n",
    "For example, if I want to find all of the rows where Hour > 20, I would type:"
   ]
  },
  {
   "cell_type": "code",
   "execution_count": null,
   "metadata": {},
   "outputs": [],
   "source": []
  },
  {
   "cell_type": "markdown",
   "metadata": {},
   "source": [
    "Just as with lists and for loops, etc, you can also combine these conditionals using & {and} , or | {or}\n",
    "\n",
    "**Important**: While Python accepts either `&`/`and` or `|`/`or`, pandas doesn't tend to like using `and/or`. When combining conditional statements try to use the amphersand (&) or the pipe (|)"
   ]
  },
  {
   "cell_type": "code",
   "execution_count": null,
   "metadata": {},
   "outputs": [],
   "source": [
    "pdsn.head()"
   ]
  },
  {
   "cell_type": "code",
   "execution_count": null,
   "metadata": {},
   "outputs": [],
   "source": [
    "#Find the rows where the SensorName is \"Town Hall (West)\" AND it's a Sunday\n"
   ]
  },
  {
   "cell_type": "code",
   "execution_count": null,
   "metadata": {},
   "outputs": [],
   "source": [
    "#You can also get a list of the row indexes for your subset\n"
   ]
  },
  {
   "cell_type": "markdown",
   "metadata": {},
   "source": [
    "Similarly, you can subset using boolean lists"
   ]
  },
  {
   "cell_type": "code",
   "execution_count": null,
   "metadata": {},
   "outputs": [],
   "source": [
    "pdsn.count()"
   ]
  },
  {
   "cell_type": "code",
   "execution_count": null,
   "metadata": {},
   "outputs": [],
   "source": [
    "# a boolean list. The 1st, 3rd and 5th values are True.\n",
    "na = pdsn[\"PedestrianCount\"].isnull()\n",
    "\n",
    "#A Boolean list - contains only True/Falses\n",
    "print(na[:10])\n",
    "\n",
    "#The same length as the dataframe - 656,823 rows\n",
    "print(len(na))\n"
   ]
  },
  {
   "cell_type": "code",
   "execution_count": null,
   "metadata": {
    "scrolled": false
   },
   "outputs": [],
   "source": [
    "#subsets all rows where PedestrianCounts = None\n",
    "pdsn[na]"
   ]
  },
  {
   "cell_type": "code",
   "execution_count": null,
   "metadata": {
    "scrolled": false
   },
   "outputs": [],
   "source": [
    "# Could also subset directly - but it's less readable\n",
    "pdsn[pdsn[\"PedestrianCount\"].isnull()]"
   ]
  },
  {
   "cell_type": "markdown",
   "metadata": {},
   "source": [
    "We can also use the `.sum()` and the `.any()` commands to find the number of nulls in our dataframes"
   ]
  },
  {
   "cell_type": "code",
   "execution_count": null,
   "metadata": {},
   "outputs": [],
   "source": [
    "# Sums the number of NaNs in each column\n",
    "pdsn.isnull().sum()"
   ]
  },
  {
   "cell_type": "code",
   "execution_count": null,
   "metadata": {},
   "outputs": [],
   "source": [
    "# Sums the number of NaNs in total dataframe\n",
    "pdsn.isnull().sum().sum()"
   ]
  },
  {
   "cell_type": "code",
   "execution_count": null,
   "metadata": {
    "collapsed": true
   },
   "outputs": [],
   "source": [
    "?df.any()\n",
    "# axis means columns or rows. rows = 0, columns = 1"
   ]
  },
  {
   "cell_type": "code",
   "execution_count": null,
   "metadata": {
    "collapsed": true
   },
   "outputs": [],
   "source": [
    "df.isnull()"
   ]
  },
  {
   "cell_type": "markdown",
   "metadata": {},
   "source": [
    "#### Challenge\n",
    "\n",
    "Find how many rows belong to the sensor at Lygon St (West) between the hours of 12am and 2am?\n",
    "\n",
    "*Hint 1: an entry of \"3\" in the Hour column means that the pedestrian counts have been monitored from 3am to 4am*\n",
    "\n",
    "*Hint 2: remember that you find the length of a list using the \"len()\" function*"
   ]
  },
  {
   "cell_type": "code",
   "execution_count": null,
   "metadata": {},
   "outputs": [],
   "source": []
  },
  {
   "cell_type": "markdown",
   "metadata": {},
   "source": [
    "#### Extension Challenge\n",
    "\n",
    "Find the columns inside the dataframe `df` that contain na values, then return the indexes for all of the rows that contain NaN values\n",
    "\n",
    "**Hint:** Remember the .any() command"
   ]
  },
  {
   "cell_type": "code",
   "execution_count": null,
   "metadata": {},
   "outputs": [],
   "source": []
  },
  {
   "cell_type": "markdown",
   "metadata": {},
   "source": [
    "## Cleaning and Manipulating Data\n",
    "\n",
    "- Dealing with duplicates\n",
    "- Sorting data\n",
    "- using the `apply()` function\n",
    "    - `reset_index` for row names\n",
    "- Adding and deleting columns/rows\n",
    "    - renaming columns\n",
    "- Data type conversion\n",
    "    - Using the \"timestamp\" data type\n",
    "- `groupby()`\n",
    "- setting data frequency (maybe)"
   ]
  },
  {
   "cell_type": "markdown",
   "metadata": {},
   "source": [
    "### Deleting duplicate values\n",
    "\n",
    "We don't actually have any duplicates in our pedestrian dataset, so we're going to go back and create a new dataframe that does"
   ]
  },
  {
   "cell_type": "code",
   "execution_count": null,
   "metadata": {},
   "outputs": [],
   "source": [
    "df[\"E\"] = pd.Series([1,2,4,2,3,3], index = df.index)\n",
    "print(df)"
   ]
  },
  {
   "cell_type": "code",
   "execution_count": null,
   "metadata": {
    "collapsed": true
   },
   "outputs": [],
   "source": [
    "?df.drop_duplicates"
   ]
  },
  {
   "cell_type": "code",
   "execution_count": null,
   "metadata": {
    "collapsed": true
   },
   "outputs": [],
   "source": [
    "df_noDups = df.drop_duplicates('E')"
   ]
  },
  {
   "cell_type": "code",
   "execution_count": null,
   "metadata": {},
   "outputs": [],
   "source": [
    "df_noDups"
   ]
  },
  {
   "cell_type": "markdown",
   "metadata": {},
   "source": [
    "### Resolving Null Data\n",
    "\n",
    "There are 2 ways to resolve Null data - replace it with new data, or delete them.\n",
    "\n",
    "For the purposes of this event, we are going to teach you how to delete them (though another section below this will teach you to replace it, for the purposes of your own data investigations).\n",
    "\n",
    "Firstly, let's view the columns where SensorID, Location and Counts have null values.\n",
    "\n",
    "We can do this using the `isnull()` function. As mentioned before, we can subset with a boolean list, which is what `isnull()` returns. Where the test evaluates to 'True', the row is output from the dataframe."
   ]
  },
  {
   "cell_type": "code",
   "execution_count": null,
   "metadata": {
    "collapsed": true
   },
   "outputs": [],
   "source": [
    "# Preserving a copy of our data for later\n",
    "pdsn_no_nulls = pdsn.copy()"
   ]
  },
  {
   "cell_type": "code",
   "execution_count": null,
   "metadata": {},
   "outputs": [],
   "source": [
    "#Show the rows where SensorID has null values\n",
    "pdsn[pdsn['SensorID'].isnull()]"
   ]
  },
  {
   "cell_type": "markdown",
   "metadata": {},
   "source": [
    "Luckily, we have a function for doing this, `dropna()`!"
   ]
  },
  {
   "cell_type": "code",
   "execution_count": null,
   "metadata": {
    "collapsed": true
   },
   "outputs": [],
   "source": [
    "?df.dropna()"
   ]
  },
  {
   "cell_type": "markdown",
   "metadata": {},
   "source": [
    "`dropna()` is a really powerful tool in your data cleaning arsenal - it lets you decide how to delete the null data, whether it should only remove it from rows or columns above a certain threshold, or whether to only delete from certain columns"
   ]
  },
  {
   "cell_type": "code",
   "execution_count": null,
   "metadata": {
    "collapsed": true
   },
   "outputs": [],
   "source": [
    "#What do you think would happen here\n",
    "pdsn_no_dups = pdsn.dropna(axis = 0, how='all')"
   ]
  },
  {
   "cell_type": "code",
   "execution_count": null,
   "metadata": {
    "collapsed": true
   },
   "outputs": [],
   "source": []
  },
  {
   "cell_type": "code",
   "execution_count": null,
   "metadata": {
    "collapsed": true
   },
   "outputs": [],
   "source": []
  },
  {
   "cell_type": "markdown",
   "metadata": {},
   "source": [
    "### Challenge\n",
    "\n",
    "Create a new dataframe, df_no_dups, from the df dataframe, which contains no null values in any of the columns."
   ]
  },
  {
   "cell_type": "code",
   "execution_count": null,
   "metadata": {
    "collapsed": true
   },
   "outputs": [],
   "source": [
    "df"
   ]
  },
  {
   "cell_type": "code",
   "execution_count": null,
   "metadata": {
    "collapsed": true
   },
   "outputs": [],
   "source": []
  },
  {
   "cell_type": "code",
   "execution_count": null,
   "metadata": {
    "collapsed": true
   },
   "outputs": [],
   "source": []
  },
  {
   "cell_type": "markdown",
   "metadata": {},
   "source": [
    "### Sorting values"
   ]
  },
  {
   "cell_type": "code",
   "execution_count": null,
   "metadata": {},
   "outputs": [],
   "source": [
    "# Sorting is ascending by default, or chronological order\n",
    "sorted_df = df_noDups.sort_values(\"E\")\n",
    "\n",
    "sorted_df"
   ]
  },
  {
   "cell_type": "code",
   "execution_count": null,
   "metadata": {},
   "outputs": [],
   "source": [
    "#Can also sort according to index number\n",
    "sorted_df = df_noDups.sort_index()\n",
    "\n",
    "sorted_df\n"
   ]
  },
  {
   "cell_type": "markdown",
   "metadata": {},
   "source": [
    "You can also change the indexes in multiple ways - you can either reset your index to count from 0 (useful if you've deleted values), or you can set another columns values as your index.\n",
    "\n",
    "Beware! If using column data, these values MUST be unique. This means it's ideally suited for things like customer IDs, timeseries data, or other unique identifiers."
   ]
  },
  {
   "cell_type": "code",
   "execution_count": null,
   "metadata": {},
   "outputs": [],
   "source": [
    "indexed_df = sorted_df.reset_index()\n",
    "\n",
    "indexed_df"
   ]
  },
  {
   "cell_type": "code",
   "execution_count": null,
   "metadata": {},
   "outputs": [],
   "source": [
    "# Use `Datetime` as our DataFrame index\n",
    "indexed_df = sorted_df.set_index(sorted_df.A)\n",
    "\n",
    "indexed_df"
   ]
  },
  {
   "cell_type": "markdown",
   "metadata": {},
   "source": [
    "#### Challenge\n",
    "\n",
    "Sort df_vet first by the values in the 'age' in decending order, then by the value in the 'visit' column in ascending order."
   ]
  },
  {
   "cell_type": "code",
   "execution_count": null,
   "metadata": {},
   "outputs": [],
   "source": []
  },
  {
   "cell_type": "code",
   "execution_count": null,
   "metadata": {
    "collapsed": true
   },
   "outputs": [],
   "source": []
  },
  {
   "cell_type": "code",
   "execution_count": null,
   "metadata": {
    "collapsed": true
   },
   "outputs": [],
   "source": []
  },
  {
   "cell_type": "markdown",
   "metadata": {},
   "source": [
    "### Replacing Nulls\n",
    "\n",
    "###### Where one column is dependant on another\n",
    "In the case of SensorID and Location, each of these values are dependent on the other. Where the SensorID is 13, the Location will always be 'Flagstaff Station', etc. In these cases, you can use previous values from your table - where you DON'T have nulls, to replace your missing data.\n",
    "\n",
    "Where there are only a few points, you might choose to do this manually. This can be done using the `set_value(index,\"Column\", value)` function. For the index parameter, you can pass it either a single index, or a list, [], of indexes to be replaced. \n",
    "\n",
    "For example, if you noticed that there's a null value for SensorID at index 312."
   ]
  },
  {
   "cell_type": "code",
   "execution_count": null,
   "metadata": {},
   "outputs": [],
   "source": [
    "pdsn[pdsn.SensorID.isnull()]"
   ]
  },
  {
   "cell_type": "markdown",
   "metadata": {},
   "source": [
    "You know that this SensorName, Flagstaff Station, corresponds to SensorID 9.0. If you wanted to replace this, you would type:"
   ]
  },
  {
   "cell_type": "code",
   "execution_count": null,
   "metadata": {},
   "outputs": [],
   "source": [
    "print('Before:')\n",
    "print(pdsn.SensorID.iloc[312])\n",
    "print(pdsn_no_nulls.SensorID.iloc[312])\n",
    "\n",
    "\n",
    "pdsn_no_nulls.set_value(312, \"SensorID\", 9.0)\n",
    "\n",
    "print(\"After:\")\n",
    "print(pdsn.SensorID.iloc[312])\n",
    "print(pdsn_no_nulls.SensorID.iloc[312])"
   ]
  },
  {
   "cell_type": "markdown",
   "metadata": {},
   "source": [
    "Say that you noticed a repeated spelling error in some of the labels, and wanted to fix them, or change something for more clarity. For example, if you wanted to replace all instance of \"Flagstaff Station\" in the Location column with \"Flagstaff\", you might use:"
   ]
  },
  {
   "cell_type": "code",
   "execution_count": null,
   "metadata": {
    "collapsed": true
   },
   "outputs": [],
   "source": [
    "pdsn_no_nulls = pdsn_no_nulls[\"SensorName\"].replace(\"Flagstaff Station\", \"Flagstaff\")"
   ]
  },
  {
   "cell_type": "code",
   "execution_count": null,
   "metadata": {
    "scrolled": true
   },
   "outputs": [],
   "source": [
    "pdsn_no_nulls[pdsn_no_nulls.SensorName == \"Flagstaff\"].head()"
   ]
  },
  {
   "cell_type": "markdown",
   "metadata": {},
   "source": [
    "That only works within a single column though. If you wanted to replace all instances where the SensorID was blank, but the SensorName was not, you could pass a list of indexes to set_value instead"
   ]
  },
  {
   "cell_type": "code",
   "execution_count": null,
   "metadata": {
    "collapsed": true
   },
   "outputs": [],
   "source": [
    "#Do not run this, this is only an example\n",
    "pdsn_no_nulls = pdsn_no_nulls.set_value(null_index_list, \"Location\", \"Flagstaff Station\")"
   ]
  },
  {
   "cell_type": "markdown",
   "metadata": {},
   "source": [
    "###### Replacing all null values with a single value\n",
    "In the PedestrianCounts column for example, you can see that there are 14 missing values. You might choose to just replace all of these with 0. You can do this using the `fillna()` function, and specifying the value you want to replace it with."
   ]
  },
  {
   "cell_type": "code",
   "execution_count": null,
   "metadata": {
    "collapsed": true
   },
   "outputs": [],
   "source": [
    "pdsn_no_nulls['PedestrianCount'] = pdsn_no_nulls['PedestrianCount'].fillna(value=0)"
   ]
  },
  {
   "cell_type": "code",
   "execution_count": null,
   "metadata": {},
   "outputs": [],
   "source": [
    "pdsn_no_nulls.isnull().any(0)"
   ]
  },
  {
   "cell_type": "markdown",
   "metadata": {},
   "source": [
    "### Converting Data Types, Adding and Deleting Columns\n",
    "\n",
    "While we currently have a \"Timestamp\" column, if you go into dtypes you can see that pandas has read this in as string, rather than as a datetime type. If we left it as a string, to get the Month, Day or Year we would need to perform a series of string manipulations every time we wanted to access these values - a costly, redundant and time consuming exercise if trying to use the whole dataframe. \n",
    "\n",
    "Instead, we can convert this column to a datetime data type, using the `to_datetime()` function."
   ]
  },
  {
   "cell_type": "code",
   "execution_count": null,
   "metadata": {},
   "outputs": [],
   "source": [
    "pdsn.columns"
   ]
  },
  {
   "cell_type": "code",
   "execution_count": null,
   "metadata": {
    "collapsed": true
   },
   "outputs": [],
   "source": [
    "pdsn['Date'] = pd.to_datetime(pdsn['Date'])"
   ]
  },
  {
   "cell_type": "code",
   "execution_count": null,
   "metadata": {},
   "outputs": [],
   "source": [
    "pdsn.dtypes"
   ]
  },
  {
   "cell_type": "code",
   "execution_count": null,
   "metadata": {
    "collapsed": true
   },
   "outputs": [],
   "source": [
    "# Adding a Column with the Day\n",
    "pdsn['Day'] = pd.DatetimeIndex(pdsn['Date']).day\n",
    "\n",
    "# Adding a Column with the Month (from 1-12)\n",
    "pdsn[\"Month\"] = pd.DatetimeIndex(pdsn[\"Date\"]).month\n",
    "\n",
    "# Adding a Column with the Year\n",
    "pdsn[\"yer\"] = pd.DatetimeIndex(pdsn[\"Date\"]).year"
   ]
  },
  {
   "cell_type": "code",
   "execution_count": null,
   "metadata": {},
   "outputs": [],
   "source": [
    "# Add another Year column\n"
   ]
  },
  {
   "cell_type": "markdown",
   "metadata": {},
   "source": [
    "Oops, I've accidentally added two columns with the year in them, and one is named incorrectly.\n",
    "\n",
    "To delete the misnamed column is actually quite simple"
   ]
  },
  {
   "cell_type": "code",
   "execution_count": null,
   "metadata": {},
   "outputs": [],
   "source": []
  },
  {
   "cell_type": "markdown",
   "metadata": {},
   "source": [
    "You can also convert other columns by using the df[column].astype(<datatype>) function. This includes 'str', 'int64' and 'float64' data types, amongst others.\n",
    "\n",
    "You must be careful **not to use `astype()` on a column with null values**. `astype()` does not preserve the null values, and makes resolving them later more difficult.\n",
    "\n",
    "Let's use our dataframe, df, in an example of converting types"
   ]
  },
  {
   "cell_type": "code",
   "execution_count": null,
   "metadata": {
    "collapsed": true
   },
   "outputs": [],
   "source": [
    "df.D = df.D.astype(str)"
   ]
  },
  {
   "cell_type": "code",
   "execution_count": null,
   "metadata": {},
   "outputs": [],
   "source": []
  },
  {
   "cell_type": "code",
   "execution_count": null,
   "metadata": {},
   "outputs": [],
   "source": []
  },
  {
   "cell_type": "code",
   "execution_count": null,
   "metadata": {
    "collapsed": true
   },
   "outputs": [],
   "source": []
  },
  {
   "cell_type": "markdown",
   "metadata": {},
   "source": [
    "#### Challenge\n",
    "\n",
    "Delete all of the null values currently contained within the pdsn dataset. Then, re-order the indexes.\n",
    "\n",
    "How many rows were deleted from the dataset?"
   ]
  },
  {
   "cell_type": "code",
   "execution_count": null,
   "metadata": {
    "collapsed": true
   },
   "outputs": [],
   "source": []
  },
  {
   "cell_type": "code",
   "execution_count": null,
   "metadata": {
    "collapsed": true
   },
   "outputs": [],
   "source": []
  },
  {
   "cell_type": "code",
   "execution_count": null,
   "metadata": {},
   "outputs": [],
   "source": []
  },
  {
   "cell_type": "markdown",
   "metadata": {},
   "source": [
    "### Grouping Data\n",
    "\n",
    "It's often useful to be able to group the data within a column according to the data in another column. \n",
    "\n",
    "For example, you might wish to take the mean pedestrian counts for each month, or each year. We could do this is a complicated and time consuming way where you subset the data for each month, and then take the mean of the Counts column...or we could just use the `groupby` function. `groupby` outputs a reformatted version of your data where all values associated with your \"grouping factor\" are taken together. You can then perform mathematical and statistical tests on this grouped output, and the tests will be performed within each of the \"groups\" you defined.\n",
    "\n",
    "The documentation for this is quite good, so I would recommend [reading it](http://pandas.pydata.org/pandas-docs/stable/groupby.html) if you'd like to learn more than what we learn here. There is also another tutorial [here](https://chrisalbon.com/python/pandas_apply_operations_to_groups.html) that covers how to apply functions to your groups in more depth.\n",
    "\n",
    "Say that we wanted to find the mean pedestrian counts seen in each month:"
   ]
  },
  {
   "cell_type": "code",
   "execution_count": null,
   "metadata": {},
   "outputs": [],
   "source": [
    "# Group by Month\n"
   ]
  },
  {
   "cell_type": "markdown",
   "metadata": {},
   "source": [
    "In this case, pdsn_no_nulls.groupby('Month').aggregate(mean) means \"Group the rows by month and then take the mean of all of the values with the same month."
   ]
  },
  {
   "cell_type": "code",
   "execution_count": null,
   "metadata": {
    "scrolled": false
   },
   "outputs": [],
   "source": [
    "month_means = pdsn_no_nulls.groupby('Month').aggregate(mean)\n",
    "month_means"
   ]
  },
  {
   "cell_type": "code",
   "execution_count": null,
   "metadata": {},
   "outputs": [],
   "source": [
    "# You can see a summary of your grouped data\n",
    "pdsn_no_nulls[[\"Day\",\"Month\",\"PedestrianCount\"]].groupby('Month').describe()"
   ]
  },
  {
   "cell_type": "code",
   "execution_count": null,
   "metadata": {},
   "outputs": [],
   "source": [
    "month_means.index = [\"January\", \"February\",\"March\",\"April\",\"May\",\"June\",\\\n",
    "                     \"July\",\"August\",\"September\",\"October\",\"November\",\"December\"]\n",
    "del month_means[\"index\"]\n",
    "\n",
    "month_means"
   ]
  },
  {
   "cell_type": "code",
   "execution_count": null,
   "metadata": {},
   "outputs": [],
   "source": [
    "month_means.describe()"
   ]
  },
  {
   "cell_type": "code",
   "execution_count": null,
   "metadata": {},
   "outputs": [],
   "source": [
    "month_means[\"PedestrianCount\"].plot(kind='bar')"
   ]
  },
  {
   "cell_type": "code",
   "execution_count": null,
   "metadata": {},
   "outputs": [],
   "source": [
    "# Can also specificy multiple columns to be output\n",
    "    # the mean \"Hour\" and pedestrian counts within each month\n",
    "pdsn.groupby(by=[\"Month\"]).mean()[[\"PedestrianCount\",\"Hour\"]]"
   ]
  },
  {
   "cell_type": "markdown",
   "metadata": {},
   "source": [
    "You can also choose to group over multiple factors, such as by Month and Year together, by specifying a list for the `by` parameter within `groupby()`. The order of the values in this list matters, as `groupby` will first group your data based on the first factor, and THEN the second factor."
   ]
  },
  {
   "cell_type": "code",
   "execution_count": null,
   "metadata": {},
   "outputs": [],
   "source": [
    "# Grouping by Year, then by month\n",
    "#The average number of pedestrians \n",
    "pdsn.groupby(by=[\"Year\",\"Month\"]).mean()"
   ]
  },
  {
   "cell_type": "code",
   "execution_count": null,
   "metadata": {
    "scrolled": false
   },
   "outputs": [],
   "source": [
    "# What if we reverse it?\n"
   ]
  },
  {
   "cell_type": "code",
   "execution_count": null,
   "metadata": {},
   "outputs": [],
   "source": []
  },
  {
   "cell_type": "markdown",
   "metadata": {},
   "source": [
    "By chaining more commands together you can also find the maximum, minimum, etc, values for your groups"
   ]
  },
  {
   "cell_type": "code",
   "execution_count": null,
   "metadata": {},
   "outputs": [],
   "source": [
    "# Minimum\n",
    "pdsn.groupby(by=[\"Month\"]).PedestrianCount.sum().min()"
   ]
  },
  {
   "cell_type": "markdown",
   "metadata": {},
   "source": [
    "But which month is this associated with?"
   ]
  },
  {
   "cell_type": "code",
   "execution_count": null,
   "metadata": {},
   "outputs": [],
   "source": [
    "# Finding the Month associated with the minimum value\n",
    "countMin = pdsn.groupby(by=[\"Month\"]).PedestrianCount.sum().min()\n",
    "\n",
    "pdsn.groupby(by=[\"Month\"]).PedestrianCount.sum()[pdsn.groupby(by=[\"Month\"]).PedestrianCount.sum() == countMin]"
   ]
  },
  {
   "cell_type": "markdown",
   "metadata": {},
   "source": [
    "You can also iterate over your groups using a `for` loop, just as if you were using a dictionary:"
   ]
  },
  {
   "cell_type": "code",
   "execution_count": null,
   "metadata": {
    "scrolled": true
   },
   "outputs": [],
   "source": []
  },
  {
   "cell_type": "markdown",
   "metadata": {},
   "source": [
    "####  Challenge\n",
    "Which sensor has the greatest average Pedestrian traffic? "
   ]
  },
  {
   "cell_type": "code",
   "execution_count": null,
   "metadata": {
    "collapsed": true
   },
   "outputs": [],
   "source": []
  },
  {
   "cell_type": "markdown",
   "metadata": {},
   "source": [
    "#### Optional Challenge\n",
    "\n",
    "Count the number of each type of animal in df_vet."
   ]
  },
  {
   "cell_type": "code",
   "execution_count": null,
   "metadata": {},
   "outputs": [],
   "source": []
  },
  {
   "cell_type": "code",
   "execution_count": null,
   "metadata": {
    "collapsed": true
   },
   "outputs": [],
   "source": []
  },
  {
   "cell_type": "code",
   "execution_count": null,
   "metadata": {
    "collapsed": true
   },
   "outputs": [],
   "source": []
  },
  {
   "cell_type": "markdown",
   "metadata": {},
   "source": [
    "## Plotting Your Data\n",
    "\n",
    "This section will teach you the basics of plotting within Seaborn. Seaborn builds upon matplotlib, and so you'll be learning how to use both Seaborn and matplotlib functions at the same time.\n",
    "\n",
    "This is hardly comprehensive, and there's a wide array of customisability and control with matplotlib and plotly. Feel free to delve into some of user guides and tutorials and questions available on Google and Stack Overflow to learn more about these tools and how to make them work for you.\n",
    "\n",
    "*Seaborn tutorials*:  \n",
    "- https://seaborn.pydata.org/\n",
    "- https://seaborn.pydata.org/examples/index.html#example-gallery\n",
    "- https://elitedatascience.com/python-seaborn-tutorial\n",
    "\n",
    "*Matpotlib*:  \n",
    "- https://matplotlib.org/users/pyplot_tutorial.html\n",
    "- The [matplotlib API](https://matplotlib.org/devdocs/api/_as_gen/matplotlib.pyplot.html) contains all of the functions you can call within matplotlib, along with detailed information about how you can use them and their parameters\n",
    "- A handy \"quick guide\" to the different kinds of plotting functions within pyplot can also be found at the [pyplot API](https://matplotlib.org/api/pyplot_api.html)"
   ]
  },
  {
   "cell_type": "markdown",
   "metadata": {},
   "source": [
    "Let's begin by trying to plot the data"
   ]
  },
  {
   "cell_type": "code",
   "execution_count": null,
   "metadata": {
    "collapsed": true
   },
   "outputs": [],
   "source": [
    "pdsn.groupby(by = \"Month\").plot()"
   ]
  },
  {
   "cell_type": "markdown",
   "metadata": {},
   "source": [
    "But that's not particularly informative, and much of the graph is completely unreadable.\n",
    "\n",
    "Matplotlib.pyplot has great customisability, so let's play around with trying to plot different types of graphs with our data"
   ]
  },
  {
   "cell_type": "markdown",
   "metadata": {},
   "source": [
    "### Line Plot\n",
    "\n",
    "Line plots are great for plotting series data, usually a time series of some description.\n",
    "\n",
    "Line plots are the default plot drawn when calling `.plot()`.\n",
    "\n",
    "Within the plot function you can also specify the Figure title and the figure size"
   ]
  },
  {
   "cell_type": "code",
   "execution_count": null,
   "metadata": {
    "collapsed": true
   },
   "outputs": [],
   "source": [
    "# Line plot\n",
    "pdsn.groupby(by = ['Year', 'Month']).mean().Counts.plot( # Drawing a pot from the grouped Year, Month data\n",
    "                                                figsize = (8,6), # The figure size\n",
    "                                                title = 'Mean Pedestrian Counts per Month, per Year') #Figure Title\n",
    "\n",
    "#specifying the x-axis label\n",
    "plt.xlabel('Pedestrian Counts per Year, Month')\n",
    "\n",
    "# the y-axis label\n",
    "plt.ylabel('Counts (mean)')\n",
    "\n",
    "#Rotating the x-axis labels\n",
    "plt.xticks(rotation=90)\n",
    "\n",
    "#If you want to SAVE your plot, make sure you do it BEFORE you show it in the notebook\n",
    "plt.savefig('PedestrianHistogram.png', dpi=300)\n",
    "\n",
    "#Generating an image\n",
    "plt.show()"
   ]
  },
  {
   "cell_type": "code",
   "execution_count": null,
   "metadata": {
    "collapsed": true
   },
   "outputs": [],
   "source": []
  },
  {
   "cell_type": "code",
   "execution_count": null,
   "metadata": {
    "collapsed": true
   },
   "outputs": [],
   "source": []
  },
  {
   "cell_type": "code",
   "execution_count": null,
   "metadata": {
    "collapsed": true
   },
   "outputs": [],
   "source": []
  },
  {
   "cell_type": "markdown",
   "metadata": {},
   "source": [
    "### Simple scatter plots\n",
    "Seaborn doesn't have a dedicated scatter plot function. We actually used Seaborn's function for fitting and plotting a regression line, so we see a regression trend line.\n",
    "\n",
    "Unfortunately our pedestrian data doesn't have many continuous variables, so our scatter plots will look rather sparse."
   ]
  },
  {
   "cell_type": "code",
   "execution_count": null,
   "metadata": {},
   "outputs": [],
   "source": [
    "pdsn.columns"
   ]
  },
  {
   "cell_type": "code",
   "execution_count": null,
   "metadata": {},
   "outputs": [],
   "source": [
    "# lmplot = Linear model plot\n",
    "sns.lmplot(x='Month', y='PedestrianCount', data=pdsn,\n",
    "         fit_reg=False, # No regression line\n",
    "         hue='Day_of_week',\n",
    "           \n",
    "          )\n",
    "\n",
    "\n",
    "# # Tweak using Matplotlib\n",
    "plt.ylim(0, None)\n",
    "plt.xlim(0, None)"
   ]
  },
  {
   "cell_type": "markdown",
   "metadata": {},
   "source": [
    "### Boxplot\n",
    "\n",
    "The humble boxplot is often extremely useful for conveying large amounts of information all at once"
   ]
  },
  {
   "cell_type": "code",
   "execution_count": null,
   "metadata": {},
   "outputs": [],
   "source": [
    "# Set theme\n",
    "sns.set_style('whitegrid')\n",
    "\n",
    "#Change the size\n",
    "plt.figure(figsize=(6,15))\n",
    "\n",
    "# sns.boxplot(data = df)\n",
    "sns.boxplot(data=pdsn[['PedestrianCount']]) #Can also add more boxes"
   ]
  },
  {
   "cell_type": "markdown",
   "metadata": {},
   "source": [
    "### Violin Plot\n",
    "\n",
    "These are like boxplots, but allows the audience to visualise exactly where the most data is occuring within your plots. Unlike boxplots, these are also much easier to plot your categorical and continuous variables against one another"
   ]
  },
  {
   "cell_type": "code",
   "execution_count": null,
   "metadata": {},
   "outputs": [],
   "source": [
    "plt.figure(figsize=(15,6))\n",
    "\n",
    "# Violin plot\n",
    "sns.violinplot(x='Month', y='PedestrianCount', data=pdsn)"
   ]
  },
  {
   "cell_type": "markdown",
   "metadata": {},
   "source": [
    "### Histograms\n",
    "\n",
    "We also cannot forget the humble histogram - these are perfect for trying to count the frequency or density of certain occurences\n",
    "\n",
    "Be aware though! This is one of those functions that **will not** allow NaN values while plotting"
   ]
  },
  {
   "cell_type": "code",
   "execution_count": null,
   "metadata": {},
   "outputs": [],
   "source": [
    "#Distribution Plot (Histogram)\n",
    "\n",
    "sns.distplot(pdsn_no_nulls.PedestrianCount)"
   ]
  },
  {
   "cell_type": "markdown",
   "metadata": {},
   "source": [
    "### Bar Plots\n",
    "\n"
   ]
  },
  {
   "cell_type": "code",
   "execution_count": null,
   "metadata": {},
   "outputs": [],
   "source": [
    "# Count Plot (Bar Plot)\n",
    "# when you want to show the number of observations in each category\n",
    "\n",
    "# plt.figure(figsize=(15,6))\n",
    "\n",
    "sns.countplot(x=pdsn[pdsn.PedestrianCount > 2000].Day_of_week, data=pdsn)\n",
    "\n",
    "plt.title(\"Pedestrians Per Day\")\n",
    "plt.xlabel(\"Day\")\n",
    "plt.ylabel(\"Total Pedestrians\")\n",
    "\n",
    "# Rotate x-labels\n",
    "plt.xticks(rotation=+45)\n",
    "\n",
    "plt.show()"
   ]
  },
  {
   "cell_type": "code",
   "execution_count": null,
   "metadata": {},
   "outputs": [],
   "source": [
    "#bar plots will automatically calculate a statistic for you\n",
    "plt.figure(figsize=(15,6))\n",
    "\n",
    "sns.barplot(x='Day_of_week', y=\"PedestrianCount\", data=pdsn)\n",
    "\n",
    "plt.xticks(rotation=-45)"
   ]
  },
  {
   "cell_type": "markdown",
   "metadata": {},
   "source": [
    "### Heatmaps\n",
    "\n",
    "Plotting correlation calculations"
   ]
  },
  {
   "cell_type": "code",
   "execution_count": null,
   "metadata": {},
   "outputs": [],
   "source": [
    "# Calculate correlations\n",
    "corr = pdsn.corr()\n",
    " \n",
    "# Heatmap\n",
    "sns.heatmap(corr, \n",
    "            annot = True,\n",
    "            linewidths=.5,\n",
    "            cmap=\"YlGnBu\"\n",
    "           )"
   ]
  },
  {
   "cell_type": "markdown",
   "metadata": {},
   "source": [
    "### Density Plot"
   ]
  },
  {
   "cell_type": "code",
   "execution_count": null,
   "metadata": {
    "collapsed": true,
    "scrolled": true
   },
   "outputs": [],
   "source": [
    "# Density Plot - this one requires two continuous variables\n",
    "sns.kdeplot(x = , y = )"
   ]
  },
  {
   "cell_type": "code",
   "execution_count": null,
   "metadata": {
    "collapsed": true
   },
   "outputs": [],
   "source": []
  },
  {
   "cell_type": "markdown",
   "metadata": {},
   "source": [
    "### Pairplots\n",
    "\n",
    "Allows you to plot many different types of plots and correlations between your different variables in a single image"
   ]
  },
  {
   "cell_type": "code",
   "execution_count": null,
   "metadata": {
    "scrolled": true
   },
   "outputs": [],
   "source": [
    "#This one uses density plots within it, so also requires continuous data\n",
    "sns.pairplot(pdsn, hue=\"Day_of_week\", size=2.5)"
   ]
  },
  {
   "cell_type": "code",
   "execution_count": null,
   "metadata": {
    "collapsed": true
   },
   "outputs": [],
   "source": [
    "# We can make pairplots but change what we want to see in the upper, lower and diagonal quadrants\n",
    "\n",
    "g = sns.PairGrid(pdsn)\n",
    "g.map_upper(plt.scatter)\n",
    "g.map_lower(sns.kdeplot, cmap=\"Blues_d\")\n",
    "g.map_diag(sns.kdeplot, lw=3, legend=False);"
   ]
  },
  {
   "cell_type": "code",
   "execution_count": null,
   "metadata": {
    "collapsed": true
   },
   "outputs": [],
   "source": []
  },
  {
   "cell_type": "markdown",
   "metadata": {},
   "source": [
    "This is only a taster of what's available, and the level of customisability you're able to use for your plotting tools. \n",
    "\n",
    "Along with those tutorials seen previously, you can also find a range of different plots - along with the accompanying code - at this [python graph gallery](https://python-graph-gallery.com). \n",
    "\n",
    "In addition, pandas itself contains a whole range of plotting tools that are designed to work specifically with dataframes. You can see exampes of these and many more inside the pandas documentation, https://pandas.pydata.org/pandas-docs/stable/visualization.html"
   ]
  },
  {
   "cell_type": "markdown",
   "metadata": {},
   "source": [
    "I've also included a link here to some bokeh tutorials. Bokeh is another python plotting package, except that this one allows you to create interactive iamges which are easily embedded into web applications.\n",
    "\n",
    "http://nbviewer.jupyter.org/github/bokeh/bokeh-notebooks/blob/master/index.ipynb#Tutorial"
   ]
  },
  {
   "cell_type": "code",
   "execution_count": null,
   "metadata": {
    "collapsed": true
   },
   "outputs": [],
   "source": []
  },
  {
   "cell_type": "markdown",
   "metadata": {},
   "source": [
    "## Summary\n",
    "\n",
    "This session has taken you through the beginner's guide of how to visualise, clean and investigate your data, and given you the basic tools to answer your own research questions about your data. \n",
    "\n",
    "Python is a very versatile tool, and can go much further than what we've shown you today. Many packages are open source and being developed for a range of purposes all the time. Scipy allows you to perform basic math and statistical tests for example, there are a host of packages related to investigating biological data.\n",
    "\n",
    "Using a programming language allows you to investigate much larger data than you can do by hand or by eye, and the customisability of the plotting tools makes it ideal for generating useful and professional images  ideal for publication.\n",
    "\n",
    "Follow us on Twitter to keep up-to-date on new and up-coming trainings\n",
    "- [@ResBaz](https://twitter.com/resbaz)\n",
    "- [@ResPlat](https://twitter.com/resplat)\n",
    "\n",
    "There's also a reasonably new facebook group, called \"Data Wrangling with Python\" where you can post your python problems, cool things you've done, and stay apprised of new trainings coming up as well.\n",
    "\n",
    "Also remember that if you're having problems, Research Platforms runs a weekly Hacky Hour, where anybody and everybody is able to enquire about coding and programming problems in a variety of tools. Every Thursday from 3-4pm, at the large table in Tsubu Bar."
   ]
  },
  {
   "cell_type": "code",
   "execution_count": null,
   "metadata": {
    "collapsed": true
   },
   "outputs": [],
   "source": []
  }
 ],
 "metadata": {
  "kernelspec": {
   "display_name": "Python 3",
   "language": "python",
   "name": "python3"
  },
  "language_info": {
   "codemirror_mode": {
    "name": "ipython",
    "version": 3
   },
   "file_extension": ".py",
   "mimetype": "text/x-python",
   "name": "python",
   "nbconvert_exporter": "python",
   "pygments_lexer": "ipython3",
   "version": "3.6.1"
  },
  "toc": {
   "colors": {
    "hover_highlight": "#DAA520",
    "navigate_num": "#000000",
    "navigate_text": "#333333",
    "running_highlight": "#FF0000",
    "selected_highlight": "#FFD700",
    "sidebar_border": "#EEEEEE",
    "wrapper_background": "#FFFFFF"
   },
   "moveMenuLeft": true,
   "nav_menu": {
    "height": "512px",
    "width": "252px"
   },
   "navigate_menu": true,
   "number_sections": true,
   "sideBar": false,
   "threshold": 4,
   "toc_cell": false,
   "toc_position": {
    "height": "40px",
    "left": "913.534px",
    "right": "20px",
    "top": "79.9858px",
    "width": "317px"
   },
   "toc_section_display": "none",
   "toc_window_display": true,
   "widenNotebook": false
  },
  "varInspector": {
   "cols": {
    "lenName": 16,
    "lenType": 16,
    "lenVar": 40
   },
   "kernels_config": {
    "python": {
     "delete_cmd_postfix": "",
     "delete_cmd_prefix": "del ",
     "library": "var_list.py",
     "varRefreshCmd": "print(var_dic_list())"
    },
    "r": {
     "delete_cmd_postfix": ") ",
     "delete_cmd_prefix": "rm(",
     "library": "var_list.r",
     "varRefreshCmd": "cat(var_dic_list()) "
    }
   },
   "types_to_exclude": [
    "module",
    "function",
    "builtin_function_or_method",
    "instance",
    "_Feature"
   ],
   "window_display": false
  }
 },
 "nbformat": 4,
 "nbformat_minor": 2
}
